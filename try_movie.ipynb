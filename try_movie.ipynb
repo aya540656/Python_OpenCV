{
 "cells": [
  {
   "cell_type": "code",
   "execution_count": 204,
   "metadata": {},
   "outputs": [],
   "source": [
    "import cv2\n",
    "import sys"
   ]
  },
  {
   "cell_type": "code",
   "execution_count": 205,
   "metadata": {},
   "outputs": [],
   "source": [
    "data = cv2.VideoCapture('./sample.mp4')"
   ]
  },
  {
   "cell_type": "code",
   "execution_count": 206,
   "metadata": {},
   "outputs": [
    {
     "data": {
      "text/plain": [
       "cv2.VideoCapture"
      ]
     },
     "execution_count": 206,
     "metadata": {},
     "output_type": "execute_result"
    }
   ],
   "source": [
    "type(data)"
   ]
  },
  {
   "cell_type": "code",
   "execution_count": 207,
   "metadata": {},
   "outputs": [
    {
     "data": {
      "text/plain": [
       "True"
      ]
     },
     "execution_count": 207,
     "metadata": {},
     "output_type": "execute_result"
    }
   ],
   "source": [
    "data.isOpened()"
   ]
  },
  {
   "cell_type": "code",
   "execution_count": 208,
   "metadata": {},
   "outputs": [],
   "source": [
    "cat_cascade = cv2.CascadeClassifier('./cascade.xml')\n",
    "data = cv2.VideoCapture('sample.mp4')\n",
    "while True:\n",
    "    ret, frame = data.read()\n",
    "    if ret:\n",
    "        gray_data = cv2.cvtColor(frame, cv2.COLOR_BGR2GRAY)\n",
    "        detect = cat_cascade.detectMultiScale(gray_data)\n",
    "        for (x, y, w, h) in detect:\n",
    "            cv2.rectangle(frame, (x, y), (x + w, y + h), (0, 0, 255), 2)\n",
    "        cv2.imshow('sample data', frame)\n",
    "        key = cv2.waitKey(1)\n",
    "        if key & 0x00FF  == ord('q'):\n",
    "            break\n",
    "    else:\n",
    "        data.set(cv2.CAP_PROP_POS_FRAMES, 0)\n",
    "\n",
    "cv2.destroyWindow('sample data')\n"
   ]
  }
 ],
 "metadata": {
  "kernelspec": {
   "display_name": "venv",
   "language": "python",
   "name": "python3"
  },
  "language_info": {
   "codemirror_mode": {
    "name": "ipython",
    "version": 3
   },
   "file_extension": ".py",
   "mimetype": "text/x-python",
   "name": "python",
   "nbconvert_exporter": "python",
   "pygments_lexer": "ipython3",
   "version": "3.10.6"
  },
  "orig_nbformat": 4
 },
 "nbformat": 4,
 "nbformat_minor": 2
}
